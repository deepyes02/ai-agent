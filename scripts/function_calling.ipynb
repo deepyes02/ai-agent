{
 "cells": [
  {
   "cell_type": "code",
   "execution_count": 2,
   "id": "a7443e9d",
   "metadata": {},
   "outputs": [],
   "source": [
    "def get_weather(city: str) -> str:\n",
    "  return f\"It's sunny in {city}\"\n",
    "\n",
    "def summarize_email(email_text: str) -> str:\n",
    "  return f\"Summary: {email_text[:50]}...\"\n",
    "\n",
    "function_registry = {\n",
    "  \"get_weather\": get_weather,\n",
    "  \"summarize_email\": summarize_email,\n",
    "}"
   ]
  },
  {
   "cell_type": "code",
   "execution_count": 25,
   "id": "b8b05221",
   "metadata": {},
   "outputs": [
    {
     "name": "stdout",
     "output_type": "stream",
     "text": [
      "Response is not in JSON format: <think>\n",
      "Alright, the user is asking about the weather in Kathmandu. Since I don't have real-time data access, I can't provide current weather information. I should let them know that I can't help with that directly. But I can use the available function to get the weather, so I'll call get_weather with Kathmandu as the argument. If they need more info, they can follow up, and I can look it up then.\n",
      "</think>\n",
      "\n",
      "```json\n",
      "{\n",
      "  \"action\": \"get_weather\",\n",
      "  \"args\": {\n",
      "    \"city\": \"Kathmandu\"\n",
      "  }\n",
      "}\n",
      "```\n"
     ]
    }
   ],
   "source": [
    "from langchain_ollama import ChatOllama\n",
    "from langchain_core.messages import HumanMessage\n",
    "\n",
    "user_prompt = \"\"\"\n",
    "Your job is to assist me by calling the correct function. \n",
    "Available functions:\n",
    "- get_weather(city: str)\n",
    "- summarize_email(email_text: str)\n",
    "\n",
    "When appropriate, reply ONLY in JSON like:\n",
    "{\n",
    "  \"action\": \"get_weather\",\n",
    "  \"args\": {\"city\": \"Tokyo\"}\n",
    "}\n",
    "If no function is needed, reply: {\"action\": null}.\n",
    "\n",
    "Now, what's the weather like in kathmandu?\n",
    "\"\"\"\n",
    "model = ChatOllama(\n",
    "    model=\"deepseek-r1:8b\",\n",
    "    temperature=0.8, \n",
    "    top_p=0.95,\n",
    "    top_k=50,\n",
    "    num_ctx=2048, \n",
    "    repeat_penalty=1.0\n",
    ")\n",
    "\n",
    "response = model.invoke([HumanMessage(content=user_prompt)])\n",
    "\n",
    "## parse and run\n",
    "import json\n",
    "try:\n",
    "    content = response.content\n",
    "    if isinstance(content, list):\n",
    "        # Convert all elements to strings before joining\n",
    "        content = \"\".join(str(x) for x in content)\n",
    "    response_json = json.loads(content)\n",
    "    if response_json.get(\"action\"):\n",
    "        function_name = response_json[\"action\"]\n",
    "        args = response_json.get(\"args\", {})\n",
    "        if function_name and function_name in function_registry:\n",
    "            result = function_registry[function_name](**args)\n",
    "            print(f\"Function call result: {result}\")\n",
    "        elif function_name is None:\n",
    "            print(\"No function call needed.\")\n",
    "        else:\n",
    "            print(f\"Function {function_name} not found.\")\n",
    "    else:\n",
    "        print(\"No function call needed.\")\n",
    "except json.JSONDecodeError:\n",
    "    print(\"Response is not in JSON format:\", response.content)\n",
    "\n"
   ]
  }
 ],
 "metadata": {
  "kernelspec": {
   "display_name": "env",
   "language": "python",
   "name": "python3"
  },
  "language_info": {
   "codemirror_mode": {
    "name": "ipython",
    "version": 3
   },
   "file_extension": ".py",
   "mimetype": "text/x-python",
   "name": "python",
   "nbconvert_exporter": "python",
   "pygments_lexer": "ipython3",
   "version": "3.11.10"
  }
 },
 "nbformat": 4,
 "nbformat_minor": 5
}
