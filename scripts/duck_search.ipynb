{
 "cells": [
  {
   "cell_type": "code",
   "execution_count": 1,
   "id": "e05d2537",
   "metadata": {},
   "outputs": [
    {
     "name": "stdout",
     "output_type": "stream",
     "text": [
      "[{'title': 'Smiles Mobile Remittance Joins Appreciation Event for Philippine ...', 'href': 'https://digitalwallet.global/news/smiles-joins-appreciation-event-for-philippine-festival-2024-sponsors/', 'body': 'Tokyo, Japan, March 14, 2025 - On March 8, 2025, Digital Wallet Corporation\\'s \"Absolute Number One\" money transfer service, Smiles Mobile Remittance, had the honor of attending \"PhilFest 2024 Thanksgiving\" in Tokyo hosted by the Philippine Assistance Group (PAG) with the support of the Philippine Embassy.This event served as a heartfelt gesture of gratitude to all the sponsors and ...'}, {'title': 'Smiles Mobile Remittance at the Philippine Festival Tokyo, wins second ...', 'href': 'https://digitalwallet.global/news/smiles-mobile-remittance-at-the-philippine-festival-tokyo-wins-second-best-booth/', 'body': \"Tokyo, Japan - This past weekend last Dec. 3 and 4, Digital Wallet Corporation 's Smiles Mobile Remittance Philippines Team attended the Philippine Festival Tokyo at the Yoyogi Event Plaza.. The Festival attracted thousands of people from all around the Tokyo area and showed off many attractive aspects of Filipino culture including traditional dancing, food and music.\"}, {'title': 'Smiles Mobile Remittance Becomes Major Sponsor of Philippine Festival ...', 'href': 'https://digitalwallet.global/news/smiles-mobile-remittance-becomes-major-sponsor-of-philippine-festival-tokyo-2024/', 'body': \"Tokyo, Japan, August 24, 2024 - Smiles Mobile Remittance, Japan's number one global mobile money transfer service, is proud to announce its major sponsorship of the Philippine Festival Tokyo 2024, reaffirming its commitment to supporting the Filipino community in Japan for a second consecutive year.This partnership marks a milestone in Smiles' journey, as it continues to enhance its ...\"}, {'title': 'Positive Turnout at Philippine Festival Tokyo: A Celebration of ...', 'href': 'https://digitalwallet.global/news/positive-turnout-at-philippine-festival-tokyo-a-celebration-of-filipino-unity-and-culture/', 'body': 'Tokyo, Japan - Nov. 25 and 26, 2023 marked a historic milestone as the Philippine Festival Tokyo, the largest and most grand Filipino event in Japan, witnessed an overwhelming turnout, with an estimated 170,000 attendees.The organizers are thrilled to express their heartfelt gratitude to the Smilers and the Overseas Filipino Worker (OFW) community, who came together to make this event a big ...'}, {'title': 'Smiles Mobile Remittance Signs on Again as Major Sponsor of Philippine ...', 'href': 'https://digitalwallet.global/news/smiles-mobile-remittance-signs-on-again-as-major-sponsor-of-philippine-festival-2024-support-from-philippine-ambassador-mylene-j-garcia-albano/', 'body': 'Tokyo, Japan, October 7, 2024 - Smiles Mobile Remittance (Smiles), known as the most popular global mobile money transfer service in Japan, is excited to announce its renewed role as the Major Sponsor of the upcoming Philippine Festival 2024, scheduled for Dec. 7 and 8, 2024 at Yoyogi Park, Tokyo.This annual festival, the largest celebration of Filipino culture in Japan, attracts between 200 ...'}, {'title': 'Digital Wallet Global - Fintech for the globe.', 'href': 'https://digitalwallet.global/', 'body': \"Digital Wallet team members have rich backgrounds in the technology field. Some of our members are former employees of Sony Corporation and others used to work for global cloud services as expert engineers and designers.. We're proud of our team as they also are passionate to help Digital Wallet strengthen the global economy with fintech and AI.\"}, {'title': 'Digital Wallet United States | Digital Wallet Global', 'href': 'https://digitalwallet.global/us/', 'body': 'Mr. Milan initially became the Former Europe Managing Director of the Philippines National Bank and was an officer of the European region for many years. After Digital Wallet was founded, Mr. Milan joined as Director and Executive Vice President to help develop and improve the most popular global mobile money transfer service in Japan known as ...'}, {'title': 'Smiles Mobile Remittance Philippines Continues 3rd Annual \"One Million ...', 'href': 'https://digitalwallet.global/news/smiles-mobile-remittance-philippines-continues-3rd-annual-one-million-smiles-program-inviting-the-global-community-to-share-smiles/', 'body': 'Tokyo, Japan - Smiles Mobile Remittance, the most popular mobile money transfer service in Japan and Good Design Award 2021 recipient, and its Philippines team are thrilled to announce the return of its highly anticipated \"One Million Smiles\" program for the third consecutive year. With this heartwarming initiative, Smiles aims to spread joy and support the Filipino community while ...'}, {'title': 'Smiles Mobile Remittance Singapore Hosts Event at Fiesta Sa Bayan ni ...', 'href': 'https://digitalwallet.global/news/smiles-mobile-remittance-singapore-hosts-event-at-fiesta-sa-bayan-ni-juan-2024/', 'body': 'Singapore, 8 July 2024 - On June 23, 2024, Smiles Mobile Remittance Singapore proudly participated in Fiesta Sa Bayan ni Juan 2024, the first event for the Philippine community in Singapore since the pandemic.Supported by the Philippine embassy in Singapore, this event marked a significant milestone in reconnecting the community.'}, {'title': 'Smiles Mobile Remittance Canada Sponsors Philippine Restaurant Month ...', 'href': 'https://digitalwallet.global/news/smiles-mobile-remittance-canada-sponsors-philippine-restaurant-month-canada-2024/', 'body': \"ONTARIO, Canada - 17 April 2024 - Digital Wallet Corporation's Smiles Mobile Remittance service, voted as the number one mobile money transfer service in Japan by overseas Filipino workers, is honored to have its Canada service sponsor the Philippine Restaurant Month Canada, occurring from Apr. 1 to Apr. 30, 2024. The Philippine Restaurant Month Canada is hosted by the Philippine Embassy ...\"}]\n"
     ]
    }
   ],
   "source": [
    "from duckduckgo_search import DDGS\n",
    "query = (\n",
    "  \"Philippines Festival 2025\"\n",
    "  \"site:smileswallet.com OR site:digitalwallet.global OR site:smilesconnect.com\"\n",
    ")\n",
    "with DDGS() as ddgs:\n",
    "  results = ddgs.text(query, max_results=10)\n",
    "print(results)"
   ]
  },
  {
   "cell_type": "code",
   "execution_count": 3,
   "id": "ebef34d9",
   "metadata": {},
   "outputs": [
    {
     "name": "stdout",
     "output_type": "stream",
     "text": [
      "[{'title': 'Smiles Mobile Remittance Joins Appreciation Event for Philippine ...', 'image': 'https://www.smileswallet.com/japan/wp-content/themes/smilesremit/src/images/section-blog/smiles-logo-white.png', 'thumbnail': 'https://tse2.mm.bing.net/th?id=OIP.zK_zCXl8E55dUc2gMN-UDgHaC6&pid=Api', 'url': 'https://www.smileswallet.com/japan/smiles-joins-appreciation-event-for-philippine-festival-2024-sponsors/', 'height': 240, 'width': 610, 'source': 'Bing'}, {'title': 'Dịch vụ phát triển ứng dụng cao cấp mobileDMP của Digital Wallet ...', 'image': 'https://www.smileswallet.com/japan/wp-content/uploads/sites/9/2022/08/MicrosoftTeams-image-187-2-768x1600.png', 'thumbnail': 'https://tse1.mm.bing.net/th?id=OIP.Gx9LQVeO2WVn8iyWvO633AHaPb&pid=Api', 'url': 'https://www.smileswallet.com/japan/vi/dich-vu-phat-trien-ung-dung-cao-cap-mobiledmp-cua-digital-wallet-corporation/', 'height': 1600, 'width': 768, 'source': 'Bing'}, {'title': 'How to Open an SMBC Trust Bank Account Online: A Step-by-step Guide ...', 'image': 'https://www.smileswallet.com/japan/wp-content/uploads/sites/9/2021/06/2-2.png', 'thumbnail': 'https://tse2.mm.bing.net/th?id=OIP.vjXICoQO653TogbDDsIG6AHaNK&pid=Api', 'url': 'https://www.smileswallet.com/japan/how-to-open-an-smbc-bank-account-online-guide/', 'height': 1920, 'width': 1080, 'source': 'Bing'}, {'title': 'Exchange Rates | Smiles Mobile Remittance', 'image': 'https://www.smileswallet.com/japan/wp-content/themes/smilesremit/src/images/footer/appStore.jpg', 'thumbnail': 'https://tse2.mm.bing.net/th?id=OIP.KiXIOSOc9G94lkWddUeTrQAAAA&pid=Api', 'url': 'https://www.smileswallet.com/japan/exchange-rates/', 'height': 76, 'width': 228, 'source': 'Bing'}, {'title': 'How to Print Documents in Combini Using your Smartphone | Smiles Mobile ...', 'image': 'https://www.smileswallet.com/japan/wp-content/uploads/sites/9/2021/09/famima-2.png', 'thumbnail': 'https://tse1.mm.bing.net/th?id=OIP.6Ax6KQzuvbAcAGuII-K6CgHaFj&pid=Api', 'url': 'https://www.smileswallet.com/japan/how-to-print-documents-in-combini-using-your-smartphone/', 'height': 585, 'width': 780, 'source': 'Bing'}, {'title': 'How to Receive Unemployment Benefits in Japan | Smiles Mobile ...', 'image': 'https://www.smileswallet.com/japan/wp-content/uploads/sites/9/2021/10/unemployment-benefits-charts-2-1024x231.jpg', 'thumbnail': 'https://tse2.mm.bing.net/th?id=OIP.TmpPpSF8uy7Q8wyCVLQayQHaBq&pid=Api', 'url': 'https://www.smileswallet.com/japan/how-to-receive-unemployment-benefits-in-japan/', 'height': 231, 'width': 1024, 'source': 'Bing'}, {'title': 'How to Print Documents in Combini Using your Smartphone | Smiles Mobile ...', 'image': 'https://www.smileswallet.com/japan/wp-content/uploads/sites/9/2021/09/famima.png', 'thumbnail': 'https://tse2.mm.bing.net/th?id=OIP.RnrFsQsgKNafZkeldEmAbgHaFj&pid=Api', 'url': 'https://www.smileswallet.com/japan/how-to-print-documents-in-combini-using-your-smartphone/', 'height': 585, 'width': 780, 'source': 'Bing'}, {'title': 'Western Union Exchange Rates and Fees | Smiles Mobile Remittance Canada ...', 'image': 'https://www.smileswallet.com/canada/wp-content/uploads/sites/5/2023/08/Western-Union-Fees-2048x1075.png', 'thumbnail': 'https://tse2.mm.bing.net/th?id=OIP.urAfvXGz-j12Mi_NQP61mwHaD4&pid=Api', 'url': 'https://www.smileswallet.com/canada/western-union-exchange-rates-and-fees/', 'height': 1075, 'width': 2048, 'source': 'Bing'}, {'title': 'How to Receive Unemployment Benefits in Japan | Smiles Mobile ...', 'image': 'https://www.smileswallet.com/japan/wp-content/uploads/sites/9/2021/10/unemployment-benefits-charts-1.jpg', 'thumbnail': 'https://tse1.mm.bing.net/th?id=OIP.-1hpm8pXV3C7F4ta6JG3CAHaCY&pid=Api', 'url': 'https://www.smileswallet.com/japan/how-to-receive-unemployment-benefits-in-japan/', 'height': 545, 'width': 1696, 'source': 'Bing'}, {'title': 'Hướng dẫn đăng ký Yucho Ninsho ゆうちょ認識 | Smiles Mobile Remittance | No.1 ...', 'image': 'https://www.smileswallet.com/japan/wp-content/uploads/sites/9/2020/07/qr_ninshou_android.png', 'thumbnail': 'https://tse2.mm.bing.net/th?id=OIP.WjxJ-tKJtrQWIu3gpkBjVQAAAA&pid=Api', 'url': 'https://www.smileswallet.com/japan/vi/huong-dan-dang-ky-yucho-ninsho-ゆうちょ認証/', 'height': 135, 'width': 135, 'source': 'Bing'}]\n"
     ]
    }
   ],
   "source": [
    "image_results = DDGS().images(\n",
    "    keywords=\"smiles mobile remittance\",\n",
    "    region=\"wt-wt\",\n",
    "    safesearch=\"on\",\n",
    "    size=None,\n",
    "    color=\"Monochrome\",\n",
    "    type_image=None,\n",
    "    layout=None,\n",
    "    license_image=None,\n",
    "    max_results=10,\n",
    ")\n",
    "print(image_results)"
   ]
  }
 ],
 "metadata": {
  "kernelspec": {
   "display_name": "env",
   "language": "python",
   "name": "python3"
  },
  "language_info": {
   "codemirror_mode": {
    "name": "ipython",
    "version": 3
   },
   "file_extension": ".py",
   "mimetype": "text/x-python",
   "name": "python",
   "nbconvert_exporter": "python",
   "pygments_lexer": "ipython3",
   "version": "3.11.10"
  }
 },
 "nbformat": 4,
 "nbformat_minor": 5
}
