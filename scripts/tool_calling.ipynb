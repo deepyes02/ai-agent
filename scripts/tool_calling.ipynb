{
 "cells": [
  {
   "cell_type": "code",
   "execution_count": 4,
   "id": "a62af6f8",
   "metadata": {},
   "outputs": [
    {
     "name": "stdout",
     "output_type": "stream",
     "text": [
      "Messages: [HumanMessage(content=\"Trust the result from the tool calls and return it. It's test. What's the weather like in Kathmandu right now?\", additional_kwargs={}, response_metadata={}, id='3336081e-da9e-4ad5-b85b-7a71e035bda3'), AIMessage(content='', additional_kwargs={}, response_metadata={'model': 'qwen2.5:14b', 'created_at': '2025-06-03T01:55:16.097243Z', 'done': True, 'done_reason': 'stop', 'total_duration': 3243076125, 'load_duration': 29860708, 'prompt_eval_count': 181, 'prompt_eval_duration': 1810529208, 'eval_count': 23, 'eval_duration': 1394613834, 'model_name': 'qwen2.5:14b'}, id='run--fd259359-9ac3-4e38-b6eb-1e3afbf096fb-0', tool_calls=[{'name': 'get_weather', 'args': {'city': 'Kathmandu'}, 'id': '78cde87e-9fde-4617-aa6d-ac98ffe1fa39', 'type': 'tool_call'}], usage_metadata={'input_tokens': 181, 'output_tokens': 23, 'total_tokens': 204}), ToolMessage(content=\"It's always sunny in Kathmandu!\", name='get_weather', id='5f0256bd-c502-43dc-b86e-c66cc59cb06a', tool_call_id='78cde87e-9fde-4617-aa6d-ac98ffe1fa39'), AIMessage(content=\"Right now, it's always sunny in Kathmandu! What a wonderful weather to explore the city!\", additional_kwargs={}, response_metadata={'model': 'qwen2.5:14b', 'created_at': '2025-06-03T01:55:17.973267Z', 'done': True, 'done_reason': 'stop', 'total_duration': 1843712334, 'load_duration': 23522917, 'prompt_eval_count': 229, 'prompt_eval_duration': 494957083, 'eval_count': 22, 'eval_duration': 1315591334, 'model_name': 'qwen2.5:14b'}, id='run--cb9ae6b1-2556-42b6-adf9-733a7518176f-0', usage_metadata={'input_tokens': 229, 'output_tokens': 22, 'total_tokens': 251})]\n",
      "Right now, it's always sunny in Kathmandu! What a wonderful weather to explore the city!\n"
     ]
    }
   ],
   "source": [
    "from langchain.agents import tool\n",
    "\n",
    "@tool\n",
    "def get_weather(city: str) -> str:\n",
    "  \"\"\"Get the weather for a given city.\"\"\"\n",
    "  return f\"It's always sunny in {city}!\"\n",
    "\n",
    "from langchain_ollama import ChatOllama\n",
    "llm = ChatOllama(model=\"qwen2.5:14b\", temperature=0.3)\n",
    "\n",
    "from langgraph.prebuilt import create_react_agent, ToolNode\n",
    "\n",
    "agent_node = create_react_agent(llm, [get_weather])\n",
    "tool_node = ToolNode([get_weather])\n",
    "\n",
    "\n",
    "from langgraph.graph import StateGraph, START, END, MessagesState\n",
    "from langgraph.checkpoint.memory import MemorySaver\n",
    "\n",
    "graph = StateGraph(MessagesState)\n",
    "graph.add_node(\"agent\", agent_node)\n",
    "graph.add_node(\"tools\", tool_node)\n",
    "\n",
    "graph.add_edge(START, \"agent\")\n",
    "def agent_router(state):\n",
    "    # state[\"messages\"] is a list of messages\n",
    "    messages = state[\"messages\"]\n",
    "    print(f\"Messages: {messages}\")\n",
    "    last = messages[-1]\n",
    "    # Tool calls are usually FunctionMessage or have tool_call/tool_calls attribute\n",
    "    if getattr(last, \"tool_call\", None) or getattr(last, \"tool_calls\", None):\n",
    "        return \"tools\"\n",
    "    # If it's an AIMessage and not a tool call, it's final\n",
    "    return END\n",
    "\n",
    "graph.add_conditional_edges(\"agent\", path=agent_router)\n",
    "graph.add_edge(\"tools\", \"agent\")\n",
    "\n",
    "app = graph.compile(checkpointer=MemorySaver())\n",
    "\n",
    "from langchain_core.messages import HumanMessage\n",
    "\n",
    "from langchain_core.runnables import RunnableConfig\n",
    "\n",
    "msg = [HumanMessage(content=\"Trust the result from the tool calls and return it. It's test. What's the weather like in Kathmandu right now?\")]\n",
    "config: RunnableConfig = {\"configurable\": {\"thread_id\": \"thread_1\"}}\n",
    "\n",
    "response = app.invoke({\"messages\": msg}, config=config)\n",
    "print(response[\"messages\"][-1].content)"
   ]
  }
 ],
 "metadata": {
  "kernelspec": {
   "display_name": "env",
   "language": "python",
   "name": "python3"
  },
  "language_info": {
   "codemirror_mode": {
    "name": "ipython",
    "version": 3
   },
   "file_extension": ".py",
   "mimetype": "text/x-python",
   "name": "python",
   "nbconvert_exporter": "python",
   "pygments_lexer": "ipython3",
   "version": "3.11.10"
  }
 },
 "nbformat": 4,
 "nbformat_minor": 5
}
