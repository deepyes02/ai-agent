{
 "cells": [
  {
   "cell_type": "markdown",
   "metadata": {},
   "source": [
    "### Persistence\n",
    "Using any open source model, we can program it to respond and remember us in a persistent manner, with help of states available in langchain framework"
   ]
  },
  {
   "cell_type": "code",
   "execution_count": 37,
   "metadata": {},
   "outputs": [],
   "source": [
    "from langchain_core.prompts import ChatPromptTemplate, MessagesPlaceholder\n",
    "from langchain_ollama import ChatOllama\n",
    "from langchain_core.messages import HumanMessage, AIMessage\n",
    "from langgraph.checkpoint.memory import MemorySaver\n",
    "from langgraph.graph import START, MessagesState, StateGraph\n",
    "#db\n",
    "# from langgraph.checkpoint.sqlite import SqliteSaver\n",
    "prompt_template = ChatPromptTemplate.from_messages(\n",
    "    [\n",
    "        (\"system\", \"Before answering, analyze the user's question and what it means. For closed questions, answer swiftly and sharply. For open questions, provide appreciation and end with a follow up question\"),\n",
    "        MessagesPlaceholder(variable_name=\"messages\")\n",
    "    ]\n",
    "  )\n",
    "  \n",
    "model = ChatOllama(\n",
    "    model=\"llama3.2:latest\",\n",
    "    temperature=0.8, \n",
    "    top_p=0.95,\n",
    "    top_k=50,\n",
    "    num_ctx=2048, \n",
    "    repeat_penalty=1.0\n",
    ")\n",
    "#Define a new graph\n",
    "workflow = StateGraph(state_schema=MessagesState)\n",
    "#define a function that calls model\n",
    "def call_model(state: MessagesState):\n",
    "  prompt = prompt_template.invoke(dict(state))\n",
    "  response = model.invoke(prompt)\n",
    "  return {\"messages\" : response}\n",
    "\n",
    "#define a node in the graph\n",
    "workflow.add_edge(START, \"model\")\n",
    "workflow.add_node(\"model\", call_model)\n",
    "#Add memory\n",
    "memory = MemorySaver()\n",
    "app = workflow.compile(checkpointer=memory)\n",
    "# Two different threads representing two different conversations\n",
    "# Savign memory and remembering the users will be quite beneficial for the model\n",
    "config = {\"configurable\" : {\"thread_id\" : \"1\"}}\n",
    "config_2 = {\"configurable\" : {\"thread_id\" : \"2\"}}\n",
    "\n",
    "# This function is for streaming the output of the model\n",
    "def stream_output(app=app, query=\"\", config=config):\n",
    "  input_messages = [HumanMessage(content=query)]\n",
    "  for chunk, metadata in app.stream({\"messages\": input_messages}, config=config, stream_mode=\"messages\"):\n",
    "    if isinstance(chunk, AIMessage):\n",
    "      print(chunk.content, end = \"\", flush=True)"
   ]
  },
  {
   "cell_type": "markdown",
   "metadata": {},
   "source": [
    "## Here we told him our name"
   ]
  },
  {
   "cell_type": "code",
   "execution_count": 38,
   "metadata": {},
   "outputs": [
    {
     "name": "stdout",
     "output_type": "stream",
     "text": [
      "Nice to meet you, Deepesh! Is there something I can help you with, or would you like to chat for a bit?"
     ]
    }
   ],
   "source": [
    "query = \"My name is Deepesh\"\n",
    "stream_output(app, query=query, config=config)"
   ]
  },
  {
   "cell_type": "markdown",
   "metadata": {},
   "source": [
    "## He remembers it"
   ]
  },
  {
   "cell_type": "code",
   "execution_count": 39,
   "metadata": {},
   "outputs": [
    {
     "name": "stdout",
     "output_type": "stream",
     "text": [
      "Your name is already mentioned, Deepesh!"
     ]
    }
   ],
   "source": [
    "query = \"What's my name?\"\n",
    "stream_output(app, query=query, config=config)"
   ]
  },
  {
   "cell_type": "markdown",
   "metadata": {},
   "source": [
    "### Using different ID here, the model forgets who we are\n",
    "Since altering thread ID, the model now forgets the previous chats"
   ]
  },
  {
   "cell_type": "code",
   "execution_count": 40,
   "metadata": {},
   "outputs": [
    {
     "name": "stdout",
     "output_type": "stream",
     "text": [
      "I don't have any information about you, so I won't be able to provide your name. Can I help you with anything else?"
     ]
    }
   ],
   "source": [
    "query = \"What's my name?\"\n",
    "stream_output(app, query=query, config=config_2)"
   ]
  },
  {
   "cell_type": "markdown",
   "metadata": {},
   "source": [
    "### However, hook back to the previous thread id, and now the model again remembers your name"
   ]
  },
  {
   "cell_type": "code",
   "execution_count": 47,
   "metadata": {},
   "outputs": [
    {
     "name": "stdout",
     "output_type": "stream",
     "text": [
      "I think we've reached a breaking point! Your full name is DEEPESH DHAKAL, and I've got it memorized. No need to ask again, my friend!"
     ]
    }
   ],
   "source": [
    "query = \"What's my full Name?\"\n",
    "input_messages = [HumanMessage(query)]\n",
    "stream_output(app, query=query, config=config)"
   ]
  },
  {
   "cell_type": "code",
   "execution_count": 45,
   "metadata": {},
   "outputs": [
    {
     "name": "stdout",
     "output_type": "stream",
     "text": [
      "I think we've covered this ground quite thoroughly! Yes, your full name is indeed Deepesh Dhakal. Would you like to talk about something else, or is there a particular topic you'd like to explore?"
     ]
    }
   ],
   "source": [
    "query = \"My full name is Deepesh Dhakal\"\n",
    "input_messages = [HumanMessage(query)]\n",
    "stream_output(app, query=query, config=config)"
   ]
  },
  {
   "cell_type": "code",
   "execution_count": 44,
   "metadata": {},
   "outputs": [
    {
     "name": "stdout",
     "output_type": "stream",
     "text": [
      "Déjà vu again! Still Deepesh Dhakal, my friend! Would you like to explore something else or test my naming skills again?"
     ]
    }
   ],
   "source": [
    "query = \"Great, what's my full name?\"\n",
    "input_messages = [HumanMessage(query)]\n",
    "stream_output(app, query=query, config=config)"
   ]
  }
 ],
 "metadata": {
  "kernelspec": {
   "display_name": "env",
   "language": "python",
   "name": "python3"
  },
  "language_info": {
   "codemirror_mode": {
    "name": "ipython",
    "version": 3
   },
   "file_extension": ".py",
   "mimetype": "text/x-python",
   "name": "python",
   "nbconvert_exporter": "python",
   "pygments_lexer": "ipython3",
   "version": "3.11.10"
  }
 },
 "nbformat": 4,
 "nbformat_minor": 2
}
